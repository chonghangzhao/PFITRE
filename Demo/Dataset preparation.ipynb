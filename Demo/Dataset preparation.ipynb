{
 "cells": [
  {
   "cell_type": "code",
   "execution_count": 2,
   "id": "90d7b1c0",
   "metadata": {},
   "outputs": [],
   "source": [
    "from Data_Gen import *\n",
    "from utils import *\n",
    "from PFITRE_Net import PFITRE_net\n",
    "\n",
    "import numpy as np\n",
    "import pandas as pd\n",
    "import tifffile as tf\n",
    "\n",
    "%matplotlib inline"
   ]
  },
  {
   "cell_type": "markdown",
   "id": "1f867765",
   "metadata": {},
   "source": [
    "# generate data with artifact for training - purely missing angle artifacts"
   ]
  },
  {
   "cell_type": "code",
   "execution_count": null,
   "id": "5bcadf72",
   "metadata": {},
   "outputs": [],
   "source": [
    "image_infile = glob.glob('./demo/img_training/*.tiff')\n",
    "out_dir = \"./training_dataset/demo/\"\n",
    "\n",
    "for i in tqdm(range(len(image_infile))):\n",
    "    image = tf.imread(image_infile[i])\n",
    "    fn = os.path.basename(image_infile[i])[:-5]\n",
    "    \n",
    "    ## Data augmentation: resize image to target size, rotate to specific angle\n",
    "    image2d = Data_augment(image, resize=True, target_size=320, rotate=False, rot_angle=0)\n",
    "\n",
    "    ## Generte random projection angle list in radian\n",
    "    theta = angle_list_gen(miss_angle='Random', step=1, rand_int=5, rot_angle=0)  #50,10\n",
    "\n",
    "    ## Conduct forward projection and receive sinogram\n",
    "    sinogram = Gen_sino(image2d, theta, padding=True)\n",
    "\n",
    "    ## reconstruct by linear solver\n",
    "    recon = recon_by_solver(sinogram, theta, padding=True, cor_shift=0)\n",
    "\n",
    "    angle_list = theta/np.pi*180\n",
    "    table_angle = pd.DataFrame({'Theta': angle_list})\n",
    "    \n",
    "    out_gt_fn = out_dir + \"/gt/\"+fn +'.tiff'\n",
    "    out_sino_fn = out_dir + \"/sino/\"+fn +'.tiff'\n",
    "    out_recon_fn = out_dir + \"/recon/\"+fn +'.tiff'\n",
    "    out_angle_fn = out_dir + \"/angle/\"+fn +'.csv'\n",
    "    \n",
    "    tf.imsave(out_gt_fn, img_2d_to_3d(image2d))\n",
    "    tf.imsave(out_sino_fn, sinogram)\n",
    "    tf.imsave(out_recon_fn, img_2d_to_3d(recon))\n",
    "    table_angle.to_csv(out_angle_fn)"
   ]
  },
  {
   "cell_type": "markdown",
   "id": "111f4043",
   "metadata": {},
   "source": [
    "# generate pairwise dataset for training - transfer learning with more artifacts"
   ]
  },
  {
   "cell_type": "code",
   "execution_count": null,
   "id": "b8f9a391",
   "metadata": {},
   "outputs": [],
   "source": [
    "image_infile = glob.glob('./demo/img_training/*.tiff')\n",
    "out_dir = \"./training_dataset/demo_2ndstep/\"\n",
    "\n",
    "Model = PFITRE_net()\n",
    "\n",
    "## The model weight can be downloaded here: https://drive.google.com/file/d/1rqop4dAZ5QSjZluPkQnnMj5Qkmn5gtKo/view?usp=drive_link\n",
    "## The path where model weight is saved\n",
    "model_weights_path = './mdl_weight/ckpt_PFITRE.pth'\n",
    "\n",
    "## load weight to the model\n",
    "Model = NN_load(Model, model_weights_path)\n",
    "\n",
    "for i in tqdm(range(len(image_infile))):\n",
    "    image = tf.imread(image_infile[i])\n",
    "    fn = os.path.basename(image_infile[i])[:-5]\n",
    "    \n",
    "    ## Data augmentation: resize image to target size, rotate to specific angle\n",
    "    image2d = Data_augment(image, resize=True, target_size=320, rotate=False, rot_angle=0)\n",
    "\n",
    "    ## Generte random projection angle list in radian\n",
    "    theta = angle_list_gen(miss_angle='Random', step=1, rand_int=5, rot_angle=0)  #50,10\n",
    "\n",
    "    ## Conduct forward projection and receive sinogram\n",
    "    sinogram = Gen_sino(image2d, theta, padding=True)\n",
    "\n",
    "    ## introduce other artifact onto sinogram\n",
    "    ## Poission, Gaussian or both noise\n",
    "    sinogram = noisy_sino(sinogram, noise_type='Mixed',  noise_level_Gaussian='Random', noise_level_Poisson='Random')\n",
    "    # ## out of field of view artifact\n",
    "    sinogram = out_FOV(sinogram)\n",
    "    ## Alignment artifact\n",
    "    sinogram = sino_shiftX(sinogram)\n",
    "\n",
    "    ## reconstruct by linear solver\n",
    "    recon, x_list = recon_ADMM_NN(sinogram, theta, Model, iter_num=8, ADMM_rho_const=15, cor_shift=0, padding=True, initial=None)\n",
    "\n",
    "\n",
    "    angle_list = theta/np.pi*180\n",
    "    table_angle = pd.DataFrame({'Theta': angle_list})\n",
    "    \n",
    "    out_gt_fn = out_dir + \"/gt/\"+fn +'.tiff'\n",
    "    out_sino_fn = out_dir + \"/sino/\"+fn +'.tiff'\n",
    "    out_recon_fn = out_dir + \"/recon/\"+fn +'.tiff'\n",
    "    out_angle_fn = out_dir + \"/angle/\"+fn +'.csv'\n",
    "    \n",
    "    tf.imsave(out_gt_fn, img_2d_to_3d(image2d))\n",
    "    tf.imsave(out_sino_fn, sinogram)\n",
    "    tf.imsave(out_recon_fn, img_2d_to_3d(recon))\n",
    "    table_angle.to_csv(out_angle_fn)"
   ]
  }
 ],
 "metadata": {
  "kernelspec": {
   "display_name": "Python 3",
   "language": "python",
   "name": "python3"
  },
  "language_info": {
   "codemirror_mode": {
    "name": "ipython",
    "version": 3
   },
   "file_extension": ".py",
   "mimetype": "text/x-python",
   "name": "python",
   "nbconvert_exporter": "python",
   "pygments_lexer": "ipython3",
   "version": "3.8.4"
  }
 },
 "nbformat": 4,
 "nbformat_minor": 5
}
